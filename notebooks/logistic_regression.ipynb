{
 "cells": [
  {
   "cell_type": "markdown",
   "id": "35082bb6",
   "metadata": {},
   "source": [
    "### Logistic Regression\n",
    "#### Iris Flower Classification"
   ]
  },
  {
   "cell_type": "markdown",
   "id": "49528346",
   "metadata": {},
   "source": [
    "Load Dataset"
   ]
  },
  {
   "cell_type": "code",
   "execution_count": 4,
   "id": "7cc87165",
   "metadata": {},
   "outputs": [],
   "source": [
    "from sklearn.datasets import load_iris\n",
    "\n",
    "# Load dataset\n",
    "iris = load_iris()\n",
    "X, y = iris.data, iris.target"
   ]
  },
  {
   "cell_type": "markdown",
   "id": "e39c581f",
   "metadata": {},
   "source": [
    "Split Traing and Test Set and Perform Scaling"
   ]
  },
  {
   "cell_type": "code",
   "execution_count": 8,
   "id": "756d8158",
   "metadata": {},
   "outputs": [
    {
     "name": "stdout",
     "output_type": "stream",
     "text": [
      "Shape of training set X:  (105, 4)\n",
      "Shape of testing set X:  (45, 4)\n"
     ]
    }
   ],
   "source": [
    "from sklearn.model_selection import train_test_split\n",
    "from sklearn.preprocessing import StandardScaler\n",
    "\n",
    "# Split train and test set\n",
    "X_train, X_test, y_train, y_test = train_test_split(X, y, test_size=0.3, random_state=42)\n",
    "\n",
    "# Feature scaling\n",
    "scaler = StandardScaler()\n",
    "X_train = scaler.fit_transform(X_train)\n",
    "X_test = scaler.transform(X_test)\n",
    "\n",
    "print(\"Shape of training set X: \", X_train.shape)\n",
    "print(\"Shape of testing set X: \", X_test.shape)"
   ]
  },
  {
   "cell_type": "markdown",
   "id": "99d1022e",
   "metadata": {},
   "source": [
    "Build Logistic Model"
   ]
  },
  {
   "cell_type": "code",
   "execution_count": 9,
   "id": "bb6c7231",
   "metadata": {},
   "outputs": [
    {
     "name": "stderr",
     "output_type": "stream",
     "text": [
      "/opt/conda/envs/ml/lib/python3.10/site-packages/sklearn/linear_model/_logistic.py:1247: FutureWarning: 'multi_class' was deprecated in version 1.5 and will be removed in 1.7. From then on, it will always use 'multinomial'. Leave it to its default value to avoid this warning.\n",
      "  warnings.warn(\n"
     ]
    }
   ],
   "source": [
    "from sklearn.linear_model import LogisticRegression\n",
    "\n",
    "# Create logistic regression model\n",
    "logistic_model = LogisticRegression(multi_class='auto', solver='liblinear', random_state=42)\n",
    "\n",
    "# Model training\n",
    "logistic_model.fit(X_train, y_train)\n",
    "\n",
    "# Model prediction\n",
    "y_pred = logistic_model.predict(X_test)"
   ]
  },
  {
   "cell_type": "markdown",
   "id": "44abdd65",
   "metadata": {},
   "source": [
    "Model Evaluation"
   ]
  },
  {
   "cell_type": "code",
   "execution_count": 10,
   "id": "05a2603e",
   "metadata": {},
   "outputs": [
    {
     "name": "stdout",
     "output_type": "stream",
     "text": [
      "Training accuracy:  0.8857142857142857\n",
      "Testing accuracy:  0.9111111111111111\n"
     ]
    }
   ],
   "source": [
    "train_accuracy = logistic_model.score(X_train, y_train)\n",
    "test_accuracy = logistic_model.score(X_test, y_test)\n",
    "\n",
    "print('Training accuracy: ', train_accuracy)\n",
    "print('Testing accuracy: ', test_accuracy)"
   ]
  },
  {
   "cell_type": "markdown",
   "id": "60c93dd3",
   "metadata": {},
   "source": [
    "> From the results, it can be observed that the model achieves nearly 90% accuracy on both the training set and the test set."
   ]
  },
  {
   "cell_type": "markdown",
   "id": "78630cac",
   "metadata": {},
   "source": [
    "Confusion Matrix for Test Set"
   ]
  },
  {
   "cell_type": "code",
   "execution_count": 11,
   "id": "7e4814ee",
   "metadata": {},
   "outputs": [
    {
     "data": {
      "image/png": "[encoded data removed]",
      "text/plain": [
       "<Figure size 640x480 with 1 Axes>"
      ]
     },
     "metadata": {},
     "output_type": "display_data"
    }
   ],
   "source": [
    "import pandas as pd\n",
    "from sklearn.metrics import confusion_matrix\n",
    "import seaborn as sns\n",
    "import matplotlib.pyplot as plt\n",
    "\n",
    "def plot_confusion_matrix(actual, pred, labels):\n",
    "    # Use pd.crosstab() to generate the confusion matrix\n",
    "    confusion_matrix = pd.crosstab(actual, pred,\n",
    "                                   rownames=['Actual'],\n",
    "                                   colnames=['Predicted'])\n",
    "    \n",
    "    # Use seaborn to draw a heatmap\n",
    "    sns.heatmap(confusion_matrix, xticklabels=labels, yticklabels=labels,\n",
    "                square=True, annot=True, cbar=False)\n",
    "\n",
    "# Call the function with label names\n",
    "y_label_names = ['setosa', 'versicolor', 'virginica']\n",
    "plot_confusion_matrix(y_test, y_pred, labels=y_label_names)\n"
   ]
  },
  {
   "cell_type": "markdown",
   "id": "fd9f9ed4",
   "metadata": {},
   "source": [
    "> From the results, it can be seen that the prediction accuracy for Setosa and Virginica is very high, with all samples correctly classified. However, there are some misclassifications within Versicolor, where the model incorrectly classified four samples as Virginica. To improve the model, one could consider studying the distinguishing features between these two flower types more deeply, or using more data and features to enhance the model’s ability to differentiate between them."
   ]
  }
 ],
 "metadata": {
  "kernelspec": {
   "display_name": "ml",
   "language": "python",
   "name": "python3"
  },
  "language_info": {
   "codemirror_mode": {
    "name": "ipython",
    "version": 3
   },
   "file_extension": ".py",
   "mimetype": "text/x-python",
   "name": "python",
   "nbconvert_exporter": "python",
   "pygments_lexer": "ipython3",
   "version": "3.10.18"
  }
 },
 "nbformat": 4,
 "nbformat_minor": 5
}
